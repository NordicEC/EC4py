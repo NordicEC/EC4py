{
 "cells": [
  {
   "cell_type": "code",
   "execution_count": 1,
   "metadata": {},
   "outputs": [],
   "source": [
    "import serial\n",
    "from ECi import ECipot\n",
    "pot = ECipot()\n",
    "from ec4py import EC_Data\n",
    "import matplotlib.pyplot as plt\n",
    "from ec4py import LSV_Data,LSV_Datas\n",
    "from ECi_pot_serial_tech_step import tech_step_aquire, tech_step\n",
    "import math\n",
    "import numpy as np\n"
   ]
  },
  {
   "cell_type": "code",
   "execution_count": 11,
   "metadata": {},
   "outputs": [],
   "source": [
    "class testFX:\n",
    "    def __init__(self):\n",
    "        self.index_max = 200\n",
    "        self.tdata = np.array([i/100 for i in range(self.index_max)])\n",
    "        self.Edata = self.tdata * 2+0.01\n",
    "        self.idata = np.array([math.log(x) for x in self.Edata])\n",
    "        self.index = 0\n",
    "        self.sp_text =[]\n",
    "        self.sp_index = []\n",
    "        \n",
    "        return\n",
    "    \n",
    "    def comFX(self):\n",
    "        self.index = self.index + 1\n",
    "        sp = next((x for x in self.sp_index if x == self.index) ,None)\n",
    "        if sp is not None:\n",
    "            print(len(self.sp_index))\n",
    "            del self.sp_index[0]\n",
    "            t = self.sp_text[0]\n",
    "            del self.sp_text[0]\n",
    "            self.index = self.index - 1\n",
    "            return t\n",
    "        if(self.index == self.index_max):\n",
    "            return \"Done\"\n",
    "        else:\n",
    "            return f\"\\t{self.tdata[self.index]}\\t{self.Edata[self.index]}\\t{self.idata[self.index]}\"\n",
    "        \n",
    "    def make_steps(self):\n",
    "        self.sp_index = [5,50,100]\n",
    "        self.sp_text = [\"Start\", \"STEP \",\"STEP \"]\n",
    "        \n",
    "    "
   ]
  },
  {
   "cell_type": "code",
   "execution_count": 16,
   "metadata": {},
   "outputs": [
    {
     "data": {
      "text/plain": [
       "'\\t0.01\\t0.03\\t-3.506557897319982'"
      ]
     },
     "execution_count": 16,
     "metadata": {},
     "output_type": "execute_result"
    }
   ],
   "source": [
    "\n",
    "a = testFX()\n",
    "a.make_steps()\n",
    "a.comFX()"
   ]
  },
  {
   "cell_type": "code",
   "execution_count": 20,
   "metadata": {},
   "outputs": [
    {
     "name": "stdout",
     "output_type": "stream",
     "text": [
      "\t0.01\t0.03\t-3.506557897319982\n",
      "\t0.02\t0.05\t-2.995732273553991\n",
      "\t0.03\t0.06999999999999999\t-2.6592600369327783\n",
      "\t0.04\t0.09\t-2.4079456086518722\n",
      "3\n",
      "Start\n",
      "---------------------------------------------2\n",
      "---------------------------------------------------1\n",
      "-----------------------------------------------------------------------------------------------------\n",
      "Done\n",
      "[0.05 0.06 0.07 0.08 0.09 0.1  0.11 0.12 0.13 0.14 0.15 0.16 0.17 0.18\n",
      " 0.19 0.2  0.21 0.22 0.23 0.24 0.25 0.26 0.27 0.28 0.29 0.3  0.31 0.32\n",
      " 0.33 0.34 0.35 0.36 0.37 0.38 0.39 0.4  0.41 0.42 0.43 0.44 0.45 0.46\n",
      " 0.47 0.48 0.49 0.5  0.51 0.52 0.53 0.54 0.55 0.56 0.57 0.58 0.59 0.6\n",
      " 0.61 0.62 0.63 0.64 0.65 0.66 0.67 0.68 0.69 0.7  0.71 0.72 0.73 0.74\n",
      " 0.75 0.76 0.77 0.78 0.79 0.8  0.81 0.82 0.83 0.84 0.85 0.86 0.87 0.88\n",
      " 0.89 0.9  0.91 0.92 0.93 0.94 0.95 0.96 0.97 0.98 0.99 1.   1.01 1.02\n",
      " 1.03 1.04 1.05 1.06 1.07 1.08 1.09 1.1  1.11 1.12 1.13 1.14 1.15 1.16\n",
      " 1.17 1.18 1.19 1.2  1.21 1.22 1.23 1.24 1.25 1.26 1.27 1.28 1.29 1.3\n",
      " 1.31 1.32 1.33 1.34 1.35 1.36 1.37 1.38 1.39 1.4  1.41 1.42 1.43 1.44\n",
      " 1.45 1.46 1.47 1.48 1.49 1.5  1.51 1.52 1.53 1.54 1.55 1.56 1.57 1.58\n",
      " 1.59 1.6  1.61 1.62 1.63 1.64 1.65 1.66 1.67 1.68 1.69 1.7  1.71 1.72\n",
      " 1.73 1.74 1.75 1.76 1.77 1.78 1.79 1.8  1.81 1.82 1.83 1.84 1.85 1.86\n",
      " 1.87 1.88 1.89 1.9  1.91 1.92 1.93 1.94 1.95 1.96 1.97 1.98 1.99]\n"
     ]
    }
   ],
   "source": [
    "a = testFX()\n",
    "a.make_steps()\n",
    "tdata = tech_step_aquire(a.comFX)\n",
    "print(tdata.Time())"
   ]
  },
  {
   "cell_type": "code",
   "execution_count": 23,
   "metadata": {},
   "outputs": [
    {
     "name": "stdout",
     "output_type": "stream",
     "text": [
      "\t0.01\t0.03\t-3.506557897319982\n",
      "\t0.02\t0.05\t-2.995732273553991\n",
      "\t0.03\t0.06999999999999999\t-2.6592600369327783\n",
      "\t0.04\t0.09\t-2.4079456086518722\n",
      "3\n",
      "Start\n",
      "---------------------------------------------2\n",
      "---------------------------------------------------1\n",
      "-----------------------------------------------------------------------------------------------------\n",
      "Done\n"
     ]
    },
    {
     "data": {
      "text/plain": [
       "(<matplotlib.lines.Line2D at 0x1c43a4bfad0>,\n",
       " <Axes: xlabel='t ( s)', ylabel='i (A)'>)"
      ]
     },
     "execution_count": 23,
     "metadata": {},
     "output_type": "execute_result"
    },
    {
     "data": {
      "image/png": "[encoded data removed]",
      "text/plain": [
       "<Figure size 600x500 with 1 Axes>"
      ]
     },
     "metadata": {},
     "output_type": "display_data"
    }
   ],
   "source": [
    "a = testFX()\n",
    "a.make_steps()\n",
    "data = tech_step(a.comFX)\n",
    "data.plot()"
   ]
  }
 ],
 "metadata": {
  "kernelspec": {
   "display_name": "Python 3",
   "language": "python",
   "name": "python3"
  },
  "language_info": {
   "codemirror_mode": {
    "name": "ipython",
    "version": 3
   },
   "file_extension": ".py",
   "mimetype": "text/x-python",
   "name": "python",
   "nbconvert_exporter": "python",
   "pygments_lexer": "ipython3",
   "version": "3.11.5"
  }
 },
 "nbformat": 4,
 "nbformat_minor": 2
}
